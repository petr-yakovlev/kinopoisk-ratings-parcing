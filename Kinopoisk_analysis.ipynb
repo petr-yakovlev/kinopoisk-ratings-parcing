{
 "cells": [
  {
   "cell_type": "code",
   "execution_count": null,
   "id": "491daf28",
   "metadata": {},
   "outputs": [],
   "source": [
    "#install useful libraries\n",
    "!pip install requests"
   ]
  },
  {
   "cell_type": "code",
   "execution_count": null,
   "id": "3192ff13",
   "metadata": {},
   "outputs": [],
   "source": [
    "import requests"
   ]
  },
  {
   "cell_type": "code",
   "execution_count": null,
   "id": "c75a6ab3",
   "metadata": {},
   "outputs": [],
   "source": [
    "# get url, the first part is all films without any filters\n",
    "url=\"https://www.kinopoisk.ru/lists/movies/top250/?page=1\"\n",
    "\n",
    "r=requests.get(url)\n",
    "r.text"
   ]
  },
  {
   "cell_type": "code",
   "execution_count": null,
   "id": "2bf41d71",
   "metadata": {},
   "outputs": [],
   "source": [
    "from bs4 import BeautifulSoup"
   ]
  },
  {
   "cell_type": "code",
   "execution_count": null,
   "id": "09fdc2d8",
   "metadata": {},
   "outputs": [],
   "source": [
    "# parse the data about each film using beautiful soup\n",
    "soup=BeautifulSoup(r.text,'lxml')\n",
    "print(soup)\n",
    "print(type(soup))"
   ]
  },
  {
   "cell_type": "code",
   "execution_count": null,
   "id": "8c2405b9",
   "metadata": {},
   "outputs": [],
   "source": [
    "films=soup.findAll('div',class_='styles_root__ti07r')\n",
    "\n",
    "data =[]\n",
    "for film in films:\n",
    "  name=film.find('a',class_='base-movie-main-info_link__YwtP1').find('span', class_='desktop-list-main-info_secondaryText__M_aus').text#.find('span', class_='desktop-list-main-info_secondaryText__M_aus')\n",
    "  name_rus=film.find('div',class_='styles_content__nT2IG').find('span', class_='styles_mainTitle__IFQyZ styles_activeMovieTittle__kJdJj').text\n",
    "  genre=film.find('div',class_='styles_content__nT2IG').findAll('span', class_='desktop-list-main-info_truncatedText__IMQRP')[0].text\n",
    "  rating_new=film.find('div',class_='styles_rating__ni2L0 styles_root___s7Tg styles_rootMd__ZvdRj styles_rootPositive__PIwO2').text\n",
    "  rating_old=film.find('div',class_='styles_user__2wZvH').find('div',class_='styles_rating__LU3_x').find('span',class_='styles_kinopoiskValuePositive__vOb2E styles_kinopoiskValue__9qXjg').text\n",
    "  views=film.find('div',class_='styles_user__2wZvH').find('div',class_='styles_rating__LU3_x').find('span',class_='styles_kinopoiskCount__2_VPQ').text\n",
    "\n",
    "  data.append([name,name_rus,genre,rating_new,rating_old,views])"
   ]
  },
  {
   "cell_type": "code",
   "execution_count": null,
   "id": "2d8da496",
   "metadata": {},
   "outputs": [],
   "source": [
    "data"
   ]
  },
  {
   "cell_type": "code",
   "execution_count": null,
   "id": "6b401211",
   "metadata": {},
   "outputs": [],
   "source": [
    "import pandas as pd"
   ]
  },
  {
   "cell_type": "code",
   "execution_count": null,
   "id": "48f5c1a9",
   "metadata": {},
   "outputs": [],
   "source": [
    "header =['name','name_rus','genre','rating_new','rating_old','views']"
   ]
  },
  {
   "cell_type": "code",
   "execution_count": null,
   "id": "91f28cb8",
   "metadata": {},
   "outputs": [],
   "source": [
    "df=pd.DataFrame(data,columns=header)\n",
    "df.head()"
   ]
  },
  {
   "cell_type": "code",
   "execution_count": null,
   "id": "19b97203",
   "metadata": {},
   "outputs": [],
   "source": [
    "# convert pandas dataframe to a numpy array in order to perform calculations for Mann-Whitney test\n",
    "\n",
    "x = df['rating_new']"
   ]
  },
  {
   "cell_type": "code",
   "execution_count": null,
   "id": "328d07e3",
   "metadata": {},
   "outputs": [],
   "source": [
    "x = pd.to_numeric(x)"
   ]
  },
  {
   "cell_type": "code",
   "execution_count": null,
   "id": "2d44aa32",
   "metadata": {},
   "outputs": [],
   "source": [
    "y = df['rating_old']"
   ]
  },
  {
   "cell_type": "code",
   "execution_count": null,
   "id": "8585cfea",
   "metadata": {},
   "outputs": [],
   "source": [
    "y = pd.to_numeric(x)"
   ]
  },
  {
   "cell_type": "code",
   "execution_count": null,
   "id": "01684663",
   "metadata": {},
   "outputs": [],
   "source": [
    "import scipy.stats as stats"
   ]
  },
  {
   "cell_type": "code",
   "execution_count": null,
   "id": "cb5649d3",
   "metadata": {},
   "outputs": [],
   "source": [
    "rating_new = x.to_numpy()"
   ]
  },
  {
   "cell_type": "code",
   "execution_count": null,
   "id": "8b976846",
   "metadata": {},
   "outputs": [],
   "source": [
    "rating_old = y.to_numpy()"
   ]
  },
  {
   "cell_type": "code",
   "execution_count": null,
   "id": "3a5f1809",
   "metadata": {},
   "outputs": [],
   "source": [
    "rating_new"
   ]
  },
  {
   "cell_type": "code",
   "execution_count": null,
   "id": "7267dd70",
   "metadata": {},
   "outputs": [],
   "source": [
    "rating_old"
   ]
  },
  {
   "cell_type": "code",
   "execution_count": null,
   "id": "0afa0699",
   "metadata": {},
   "outputs": [],
   "source": [
    "import numpy as np"
   ]
  },
  {
   "cell_type": "code",
   "execution_count": null,
   "id": "fcc98738",
   "metadata": {},
   "outputs": [],
   "source": [
    "rating_new = rating_new.astype(np.float)"
   ]
  },
  {
   "cell_type": "code",
   "execution_count": null,
   "id": "bf84c258",
   "metadata": {},
   "outputs": [],
   "source": [
    "rating_new"
   ]
  },
  {
   "cell_type": "code",
   "execution_count": null,
   "id": "7c5b2c88",
   "metadata": {},
   "outputs": [],
   "source": [
    "rating_old = rating_old.astype(np.float)"
   ]
  },
  {
   "cell_type": "code",
   "execution_count": null,
   "id": "05f2854c",
   "metadata": {},
   "outputs": [],
   "source": [
    "rating_old"
   ]
  },
  {
   "cell_type": "code",
   "execution_count": null,
   "id": "e0f20455",
   "metadata": {},
   "outputs": [],
   "source": [
    "#perform the Mann-Whitney U test\n",
    "stats.mannwhitneyu(rating_new, rating_old, alternative='two-sided')\n",
    "\n",
    "# here we het the test stat and the p-value. the hypothesis were the following \n",
    "#H0 - there is no statistical difference between rating_new and rating_old\n",
    "#H1 - the difference between rating_new and rating_old exists\n",
    "\n",
    "#we see the p-value equal to 1.0. \n",
    "#The higher the p-value, the more likely that we don’t reject the null hypothesis. \n",
    "#In this example, we got a 1.0, which means that we fail to reject H0 and, therefore, there is no statistical difference between ratings."
   ]
  },
  {
   "cell_type": "code",
   "execution_count": null,
   "id": "b415a0fa",
   "metadata": {},
   "outputs": [],
   "source": [
    "#perform the prepartion for bootstrap statistical test\n",
    "!pip install bstrap\n",
    "from bstrap import bootstrap\n",
    "\n",
    "means = []\n",
    "new_means = []\n",
    "old_means = []\n",
    "for _ in range (10000):\n",
    "    new_ratings = x.sample(50, replace=True).mean()\n",
    "    old_ratings = y.sample(50, replace=True).mean()\n",
    "    new_means.append(new_ratings)\n",
    "    old_means.append(old_ratings)\n",
    "    means.append(new_ratings - old_ratings)"
   ]
  },
  {
   "cell_type": "code",
   "execution_count": null,
   "id": "4929f9df",
   "metadata": {},
   "outputs": [],
   "source": [
    "import matplotlib.pyplot as plt"
   ]
  },
  {
   "cell_type": "code",
   "execution_count": null,
   "id": "1bcea50e",
   "metadata": {},
   "outputs": [],
   "source": [
    "#Lets plot this to compare the distributions\n",
    "plt.hist(new_means, alpha=0.5);\n",
    "plt.hist(old_means, alpha=0.5);"
   ]
  },
  {
   "cell_type": "code",
   "execution_count": null,
   "id": "e7985ea5",
   "metadata": {
    "scrolled": false
   },
   "outputs": [],
   "source": [
    "#histogram of differences\n",
    "plt.hist(means, alpha=0.5);"
   ]
  },
  {
   "cell_type": "code",
   "execution_count": null,
   "id": "b8741bfc",
   "metadata": {},
   "outputs": [],
   "source": [
    "# perform the boostrap statistical test\n",
    "new_means, old_means, p_value = bootstrap(np.mean, x, y, nbr_runs=10000)\n",
    "print(new_means)\n",
    "print(old_means)\n",
    "print(p_value)\n",
    "\n",
    "#we see that p-value is vaery close to 1, so we cannot reject null hypothesis"
   ]
  },
  {
   "cell_type": "code",
   "execution_count": null,
   "id": "6d4ae2c3",
   "metadata": {},
   "outputs": [],
   "source": [
    "#perform all the same with the concrete country (USA)\n",
    "\n",
    "url=\"https://www.kinopoisk.ru/lists/movies/top250/country--1/\"\n",
    "\n",
    "r=requests.get(url)\n",
    "r.text"
   ]
  },
  {
   "cell_type": "code",
   "execution_count": null,
   "id": "61661f76",
   "metadata": {},
   "outputs": [],
   "source": [
    "soup=BeautifulSoup(r.text,'lxml')\n",
    "print(soup)\n",
    "print(type(soup))"
   ]
  },
  {
   "cell_type": "code",
   "execution_count": null,
   "id": "5983dfad",
   "metadata": {},
   "outputs": [],
   "source": [
    "films=soup.findAll('div',class_='styles_root__ti07r')\n",
    "\n",
    "data =[]\n",
    "for film in films:\n",
    "  name=film.find('a',class_='base-movie-main-info_link__YwtP1').find('span', class_='desktop-list-main-info_secondaryText__M_aus').text#.find('span', class_='desktop-list-main-info_secondaryText__M_aus')\n",
    "  name_rus=film.find('div',class_='styles_content__nT2IG').find('span', class_='styles_mainTitle__IFQyZ styles_activeMovieTittle__kJdJj').text\n",
    "  genre=film.find('div',class_='styles_content__nT2IG').findAll('span', class_='desktop-list-main-info_truncatedText__IMQRP')[0].text\n",
    "  rating_new=film.find('div',class_='styles_rating__ni2L0 styles_root___s7Tg styles_rootMd__ZvdRj styles_rootPositive__PIwO2').text\n",
    "  rating_old=film.find('div',class_='styles_user__2wZvH').find('div',class_='styles_rating__LU3_x').find('span',class_='styles_kinopoiskValuePositive__vOb2E styles_kinopoiskValue__9qXjg').text\n",
    "  views=film.find('div',class_='styles_user__2wZvH').find('div',class_='styles_rating__LU3_x').find('span',class_='styles_kinopoiskCount__2_VPQ').text\n",
    "\n",
    "  data.append([name,name_rus,genre,rating_new,rating_old,views])"
   ]
  },
  {
   "cell_type": "code",
   "execution_count": null,
   "id": "97cd22b0",
   "metadata": {},
   "outputs": [],
   "source": [
    "data"
   ]
  },
  {
   "cell_type": "code",
   "execution_count": null,
   "id": "adbd4e8f",
   "metadata": {},
   "outputs": [],
   "source": [
    "df=pd.DataFrame(data,columns=header)\n",
    "df.head()"
   ]
  },
  {
   "cell_type": "code",
   "execution_count": null,
   "id": "e718fc03",
   "metadata": {},
   "outputs": [],
   "source": [
    "x = df['rating_new']\n",
    "x = pd.to_numeric(x)\n",
    "y = df['rating_old']\n",
    "y = pd.to_numeric(x)\n",
    "rating_new = x.to_numpy()\n",
    "rating_old = y.to_numpy()"
   ]
  },
  {
   "cell_type": "code",
   "execution_count": null,
   "id": "cc22b2e8",
   "metadata": {},
   "outputs": [],
   "source": [
    "stats.mannwhitneyu(rating_new, rating_old, alternative='two-sided')"
   ]
  },
  {
   "cell_type": "code",
   "execution_count": null,
   "id": "1af491c0",
   "metadata": {},
   "outputs": [],
   "source": [
    "new_means, old_means, p_value = bootstrap(np.mean, x, y, nbr_runs=10000)\n",
    "print(new_means)\n",
    "print(old_means)\n",
    "print(p_value)"
   ]
  },
  {
   "cell_type": "code",
   "execution_count": null,
   "id": "36266708",
   "metadata": {},
   "outputs": [],
   "source": [
    "#the same with concrete genre (action movie)\n",
    "url=\"https://www.kinopoisk.ru/lists/movies/top250/genre--action/\"\n",
    "\n",
    "r=requests.get(url)\n",
    "r.text"
   ]
  },
  {
   "cell_type": "code",
   "execution_count": null,
   "id": "d8684e55",
   "metadata": {},
   "outputs": [],
   "source": [
    "soup=BeautifulSoup(r.text,'lxml')\n",
    "films=soup.findAll('div',class_='styles_root__ti07r')\n",
    "\n",
    "data =[]\n",
    "for film in films:\n",
    "  name=film.find('a',class_='base-movie-main-info_link__YwtP1').find('span', class_='desktop-list-main-info_secondaryText__M_aus').text#.find('span', class_='desktop-list-main-info_secondaryText__M_aus')\n",
    "  name_rus=film.find('div',class_='styles_content__nT2IG').find('span', class_='styles_mainTitle__IFQyZ styles_activeMovieTittle__kJdJj').text\n",
    "  genre=film.find('div',class_='styles_content__nT2IG').findAll('span', class_='desktop-list-main-info_truncatedText__IMQRP')[0].text\n",
    "  rating_new=film.find('div',class_='styles_rating__ni2L0 styles_root___s7Tg styles_rootMd__ZvdRj styles_rootPositive__PIwO2').text\n",
    "  rating_old=film.find('div',class_='styles_user__2wZvH').find('div',class_='styles_rating__LU3_x').find('span',class_='styles_kinopoiskValuePositive__vOb2E styles_kinopoiskValue__9qXjg').text\n",
    "  views=film.find('div',class_='styles_user__2wZvH').find('div',class_='styles_rating__LU3_x').find('span',class_='styles_kinopoiskCount__2_VPQ').text\n",
    "\n",
    "  data.append([name,name_rus,genre,rating_new,rating_old,views])"
   ]
  },
  {
   "cell_type": "code",
   "execution_count": null,
   "id": "2d51ce2c",
   "metadata": {},
   "outputs": [],
   "source": [
    "data"
   ]
  },
  {
   "cell_type": "code",
   "execution_count": null,
   "id": "3cad882a",
   "metadata": {},
   "outputs": [],
   "source": [
    "df=pd.DataFrame(data,columns=header)\n",
    "df.head()"
   ]
  },
  {
   "cell_type": "code",
   "execution_count": null,
   "id": "8b31dfec",
   "metadata": {},
   "outputs": [],
   "source": [
    "x = df['rating_new']\n",
    "x = pd.to_numeric(x)\n",
    "y = df['rating_old']\n",
    "y = pd.to_numeric(x)\n",
    "rating_new = x.to_numpy()\n",
    "rating_old = y.to_numpy()"
   ]
  },
  {
   "cell_type": "code",
   "execution_count": null,
   "id": "eb0d16b9",
   "metadata": {
    "scrolled": true
   },
   "outputs": [],
   "source": [
    "stats.mannwhitneyu(rating_new, rating_old, alternative='two-sided')"
   ]
  },
  {
   "cell_type": "code",
   "execution_count": null,
   "id": "73139bfb",
   "metadata": {},
   "outputs": [],
   "source": [
    "new_means, old_means, p_value = bootstrap(np.mean, x, y, nbr_runs=10000)\n",
    "print(new_means)\n",
    "print(old_means)\n",
    "print(p_value)"
   ]
  },
  {
   "cell_type": "code",
   "execution_count": null,
   "id": "3e759d24",
   "metadata": {},
   "outputs": [],
   "source": [
    "#the same with the concrete time period\n",
    "url=\"https://www.kinopoisk.ru/lists/movies/top250/year--2000-2009/\"\n",
    "\n",
    "r=requests.get(url)\n",
    "r.text"
   ]
  },
  {
   "cell_type": "code",
   "execution_count": null,
   "id": "6519e153",
   "metadata": {},
   "outputs": [],
   "source": [
    "soup=BeautifulSoup(r.text,'lxml')\n",
    "films=soup.findAll('div',class_='styles_root__ti07r')\n",
    "\n",
    "data =[]\n",
    "for film in films:\n",
    "  name=film.find('a',class_='base-movie-main-info_link__YwtP1').find('span', class_='desktop-list-main-info_secondaryText__M_aus').text#.find('span', class_='desktop-list-main-info_secondaryText__M_aus')\n",
    "  name_rus=film.find('div',class_='styles_content__nT2IG').find('span', class_='styles_mainTitle__IFQyZ styles_activeMovieTittle__kJdJj').text\n",
    "  genre=film.find('div',class_='styles_content__nT2IG').findAll('span', class_='desktop-list-main-info_truncatedText__IMQRP')[0].text\n",
    "  rating_new=film.find('div',class_='styles_rating__ni2L0 styles_root___s7Tg styles_rootMd__ZvdRj styles_rootPositive__PIwO2').text\n",
    "  rating_old=film.find('div',class_='styles_user__2wZvH').find('div',class_='styles_rating__LU3_x').find('span',class_='styles_kinopoiskValuePositive__vOb2E styles_kinopoiskValue__9qXjg').text\n",
    "  views=film.find('div',class_='styles_user__2wZvH').find('div',class_='styles_rating__LU3_x').find('span',class_='styles_kinopoiskCount__2_VPQ').text\n",
    "\n",
    "  data.append([name,name_rus,genre,rating_new,rating_old,views])"
   ]
  },
  {
   "cell_type": "code",
   "execution_count": null,
   "id": "8a54cf8d",
   "metadata": {},
   "outputs": [],
   "source": [
    "df=pd.DataFrame(data,columns=header)\n",
    "df.head()"
   ]
  },
  {
   "cell_type": "code",
   "execution_count": null,
   "id": "a87805c6",
   "metadata": {},
   "outputs": [],
   "source": [
    "x = df['rating_new']\n",
    "x = pd.to_numeric(x)\n",
    "y = df['rating_old']\n",
    "y = pd.to_numeric(x)\n",
    "rating_new = x.to_numpy()\n",
    "rating_old = y.to_numpy()"
   ]
  },
  {
   "cell_type": "code",
   "execution_count": null,
   "id": "9f8f8515",
   "metadata": {},
   "outputs": [],
   "source": [
    "stats.mannwhitneyu(rating_new, rating_old, alternative='two-sided')"
   ]
  },
  {
   "cell_type": "code",
   "execution_count": null,
   "id": "92abc6e5",
   "metadata": {},
   "outputs": [],
   "source": [
    "new_means, old_means, p_value = bootstrap(np.mean, x, y, nbr_runs=1000)\n",
    "print(new_means)\n",
    "print(old_means)\n",
    "print(p_value)"
   ]
  },
  {
   "cell_type": "code",
   "execution_count": null,
   "id": "7f4e8d91",
   "metadata": {},
   "outputs": [],
   "source": [
    "#we see that we cannot reject the null hypothesis in any selection (total, genre, country and time period)"
   ]
  },
  {
   "cell_type": "code",
   "execution_count": null,
   "id": "4ba906d7",
   "metadata": {},
   "outputs": [],
   "source": []
  }
 ],
 "metadata": {
  "kernelspec": {
   "display_name": "Python 3 (ipykernel)",
   "language": "python",
   "name": "python3"
  },
  "language_info": {
   "codemirror_mode": {
    "name": "ipython",
    "version": 3
   },
   "file_extension": ".py",
   "mimetype": "text/x-python",
   "name": "python",
   "nbconvert_exporter": "python",
   "pygments_lexer": "ipython3",
   "version": "3.9.7"
  }
 },
 "nbformat": 4,
 "nbformat_minor": 5
}
